{
 "cells": [
  {
   "cell_type": "code",
   "execution_count": 39,
   "metadata": {},
   "outputs": [],
   "source": [
    "import torch\n",
    "from transformers import DistilBertTokenizer, DistilBertForQuestionAnswering\n",
    "\n",
    "\n",
    "import spacy\n"
   ]
  },
  {
   "cell_type": "code",
   "execution_count": 40,
   "metadata": {},
   "outputs": [],
   "source": [
    "import wikipedia\n",
    "import os\n",
    "\n",
    "\n",
    "class TextExtractor:\n",
    "\n",
    "    __pageTitle: str\n",
    "    __pageId: str\n",
    "\n",
    "    def __init__(self, pageTitle, pageId):\n",
    "        self.__pageTitle = pageTitle\n",
    "        self.__pageId = pageId\n",
    "\n",
    "    def extract(self):\n",
    "        fileName = \"./text/\" + self.__pageTitle + \".txt\"\n",
    "        if not os.path.isfile(fileName):\n",
    "            page = wikipedia.page(title=self.__pageTitle, pageid=self.__pageId)\n",
    "            f = open(fileName, \"w\")\n",
    "            f.write(page.content)\n",
    "            f.close()\n",
    "\n",
    "    def getText(self):\n",
    "        f = open(\"./text/\" + self.__pageTitle + \".txt\", \"r\")\n",
    "        return f.read()"
   ]
  },
  {
   "cell_type": "code",
   "execution_count": 41,
   "metadata": {},
   "outputs": [],
   "source": [
    "class TextExtractorPipe:\n",
    "\n",
    "    __textExtractors: [TextExtractor]\n",
    "\n",
    "    def __init__(self):\n",
    "        self.__textExtractors = []\n",
    "\n",
    "    def addTextExtractor(self, textExtractor: TextExtractor):\n",
    "        self.__textExtractors.append(textExtractor)\n",
    "\n",
    "    def extract(self) -> str:\n",
    "        result = ''\n",
    "        for textExtractor in self.__textExtractors:\n",
    "            result = result + textExtractor.getText()\n",
    "        return result"
   ]
  },
  {
   "cell_type": "code",
   "execution_count": 42,
   "metadata": {},
   "outputs": [],
   "source": [
    "class QuestionProcessor:\n",
    "\n",
    "\n",
    "    def __init__(self, nlp):\n",
    "        self.pos = [\"NOUN\", \"PROPN\", \"ADJ\"]\n",
    "        self.nlp = nlp\n",
    "\n",
    "\n",
    "    def process(self, text):\n",
    "        tokens = self.nlp(text)\n",
    "        return ' '.join(token.text for token in tokens if token.pos_ in self.pos)\n"
   ]
  },
  {
   "cell_type": "code",
   "execution_count": 43,
   "metadata": {},
   "outputs": [],
   "source": [
    "from rank_bm25 import BM25Okapi as BM25\n",
    "\n",
    "\n",
    "class ContextRetriever:\n",
    "\n",
    "    def __init__(self, nlp, numberOfResults):\n",
    "        self.nlp = nlp\n",
    "        self.numberOfResults = numberOfResults\n",
    "\n",
    "    def tokenize(self, sentence):\n",
    "        return [token.lemma_ for token in self.nlp(sentence)]\n",
    "\n",
    "\n",
    "    def getContext(self, sentences, question):\n",
    "        documents = []\n",
    "        for sent in sentences:\n",
    "            documents.append(self.tokenize(sent))\n",
    "\n",
    "        bm25 = BM25(documents)\n",
    "\n",
    "        scores = bm25.get_scores(self.tokenize(question))\n",
    "        results = {}\n",
    "        for index, score in enumerate(scores):\n",
    "            results[index] = score\n",
    "\n",
    "        sorted_results = {k: v for k, v in sorted(results.items(), key=lambda item: item[1], reverse=True)}\n",
    "        results_list = list(sorted_results.keys())\n",
    "        final_results = results_list if len(results_list) < self.numberOfResults else results_list[:self.numberOfResults]\n",
    "        questionContext = \"\"\n",
    "        for final_result in final_results:\n",
    "            questionContext = questionContext + \" \".join(documents[final_result])\n",
    "        return questionContext"
   ]
  },
  {
   "cell_type": "code",
   "execution_count": 44,
   "metadata": {},
   "outputs": [],
   "source": [
    "class AnswerRetriever:\n",
    "\n",
    "    def getAnswer(self, question, questionContext):\n",
    "        distilBertTokenizer = DistilBertTokenizer.from_pretrained('distilbert-base-uncased', return_token_type_ids=True)\n",
    "        distilBertForQuestionAnswering = DistilBertForQuestionAnswering.from_pretrained(\n",
    "            'distilbert-base-uncased-distilled-squad')\n",
    "\n",
    "        encodings = distilBertTokenizer.encode_plus(question, questionContext)\n",
    "\n",
    "        inputIds, attentionMask = encodings[\"input_ids\"], encodings[\"attention_mask\"]\n",
    "\n",
    "        scoresStart, scoresEnd = distilBertForQuestionAnswering(torch.tensor([inputIds]),\n",
    "                                                                attention_mask=torch.tensor([attentionMask]))\n",
    "\n",
    "        tokens = inputIds[torch.argmax(scoresStart): torch.argmax(scoresEnd) + 1]\n",
    "        answerTokens = distilBertTokenizer.convert_ids_to_tokens(tokens, skip_special_tokens=True)\n",
    "        return distilBertTokenizer.convert_tokens_to_string(answerTokens)\n"
   ]
  },
  {
   "cell_type": "code",
   "execution_count": 51,
   "metadata": {},
   "outputs": [],
   "source": [
    "textExtractor1 = TextExtractor(\"London\", \"Q84\")\n",
    "textExtractor1.extract()\n",
    "textExtractor2 = TextExtractor(\"Berlin\", \"Q64\")\n",
    "textExtractor2.extract()\n",
    "textExtractor3 = TextExtractor(\"Bucharest\", \"Q19660\")\n",
    "textExtractor3.extract()\n",
    "\n",
    "textExtractorPipe = TextExtractorPipe()\n",
    "textExtractorPipe.addTextExtractor(textExtractor1)\n",
    "textExtractorPipe.addTextExtractor(textExtractor2)\n",
    "textExtractorPipe.addTextExtractor(textExtractor3)\n",
    "\n"
   ]
  },
  {
   "cell_type": "code",
   "execution_count": 52,
   "metadata": {},
   "outputs": [
    {
     "ename": "AttributeError",
     "evalue": "'spacy.tokens.span.Span' object has no attribute 'string'",
     "output_type": "error",
     "traceback": [
      "\u001b[0;31m---------------------------------------------------------------------------\u001b[0m",
      "\u001b[0;31mAttributeError\u001b[0m                            Traceback (most recent call last)",
      "\u001b[0;32m<ipython-input-52-0e31b766133b>\u001b[0m in \u001b[0;36m<module>\u001b[0;34m\u001b[0m\n\u001b[1;32m      3\u001b[0m \u001b[0mnlp\u001b[0m\u001b[0;34m.\u001b[0m\u001b[0madd_pipe\u001b[0m\u001b[0;34m(\u001b[0m\u001b[0;34m'sentencizer'\u001b[0m\u001b[0;34m)\u001b[0m\u001b[0;34m\u001b[0m\u001b[0;34m\u001b[0m\u001b[0m\n\u001b[1;32m      4\u001b[0m \u001b[0mdoc\u001b[0m \u001b[0;34m=\u001b[0m \u001b[0mnlp\u001b[0m\u001b[0;34m(\u001b[0m\u001b[0mtextExtractorPipe\u001b[0m\u001b[0;34m.\u001b[0m\u001b[0mextract\u001b[0m\u001b[0;34m(\u001b[0m\u001b[0;34m)\u001b[0m\u001b[0;34m)\u001b[0m\u001b[0;34m\u001b[0m\u001b[0;34m\u001b[0m\u001b[0m\n\u001b[0;32m----> 5\u001b[0;31m \u001b[0msentences\u001b[0m \u001b[0;34m=\u001b[0m \u001b[0;34m[\u001b[0m\u001b[0msent\u001b[0m\u001b[0;34m.\u001b[0m\u001b[0mstring\u001b[0m\u001b[0;34m.\u001b[0m\u001b[0mstrip\u001b[0m\u001b[0;34m(\u001b[0m\u001b[0;34m)\u001b[0m \u001b[0;32mfor\u001b[0m \u001b[0msent\u001b[0m \u001b[0;32min\u001b[0m \u001b[0mdoc\u001b[0m\u001b[0;34m.\u001b[0m\u001b[0msents\u001b[0m\u001b[0;34m]\u001b[0m\u001b[0;34m\u001b[0m\u001b[0;34m\u001b[0m\u001b[0m\n\u001b[0m\u001b[1;32m      6\u001b[0m \u001b[0mquestionProcessor\u001b[0m \u001b[0;34m=\u001b[0m \u001b[0mQuestionProcessor\u001b[0m\u001b[0;34m(\u001b[0m\u001b[0mnlp\u001b[0m\u001b[0;34m)\u001b[0m\u001b[0;34m\u001b[0m\u001b[0;34m\u001b[0m\u001b[0m\n\u001b[1;32m      7\u001b[0m \u001b[0mcontextRetriever\u001b[0m \u001b[0;34m=\u001b[0m \u001b[0mContextRetriever\u001b[0m\u001b[0;34m(\u001b[0m\u001b[0mnlp\u001b[0m\u001b[0;34m,\u001b[0m \u001b[0;36m10\u001b[0m\u001b[0;34m)\u001b[0m\u001b[0;34m\u001b[0m\u001b[0;34m\u001b[0m\u001b[0m\n",
      "\u001b[0;32m<ipython-input-52-0e31b766133b>\u001b[0m in \u001b[0;36m<listcomp>\u001b[0;34m(.0)\u001b[0m\n\u001b[1;32m      3\u001b[0m \u001b[0mnlp\u001b[0m\u001b[0;34m.\u001b[0m\u001b[0madd_pipe\u001b[0m\u001b[0;34m(\u001b[0m\u001b[0;34m'sentencizer'\u001b[0m\u001b[0;34m)\u001b[0m\u001b[0;34m\u001b[0m\u001b[0;34m\u001b[0m\u001b[0m\n\u001b[1;32m      4\u001b[0m \u001b[0mdoc\u001b[0m \u001b[0;34m=\u001b[0m \u001b[0mnlp\u001b[0m\u001b[0;34m(\u001b[0m\u001b[0mtextExtractorPipe\u001b[0m\u001b[0;34m.\u001b[0m\u001b[0mextract\u001b[0m\u001b[0;34m(\u001b[0m\u001b[0;34m)\u001b[0m\u001b[0;34m)\u001b[0m\u001b[0;34m\u001b[0m\u001b[0;34m\u001b[0m\u001b[0m\n\u001b[0;32m----> 5\u001b[0;31m \u001b[0msentences\u001b[0m \u001b[0;34m=\u001b[0m \u001b[0;34m[\u001b[0m\u001b[0msent\u001b[0m\u001b[0;34m.\u001b[0m\u001b[0mstring\u001b[0m\u001b[0;34m.\u001b[0m\u001b[0mstrip\u001b[0m\u001b[0;34m(\u001b[0m\u001b[0;34m)\u001b[0m \u001b[0;32mfor\u001b[0m \u001b[0msent\u001b[0m \u001b[0;32min\u001b[0m \u001b[0mdoc\u001b[0m\u001b[0;34m.\u001b[0m\u001b[0msents\u001b[0m\u001b[0;34m]\u001b[0m\u001b[0;34m\u001b[0m\u001b[0;34m\u001b[0m\u001b[0m\n\u001b[0m\u001b[1;32m      6\u001b[0m \u001b[0mquestionProcessor\u001b[0m \u001b[0;34m=\u001b[0m \u001b[0mQuestionProcessor\u001b[0m\u001b[0;34m(\u001b[0m\u001b[0mnlp\u001b[0m\u001b[0;34m)\u001b[0m\u001b[0;34m\u001b[0m\u001b[0;34m\u001b[0m\u001b[0m\n\u001b[1;32m      7\u001b[0m \u001b[0mcontextRetriever\u001b[0m \u001b[0;34m=\u001b[0m \u001b[0mContextRetriever\u001b[0m\u001b[0;34m(\u001b[0m\u001b[0mnlp\u001b[0m\u001b[0;34m,\u001b[0m \u001b[0;36m10\u001b[0m\u001b[0;34m)\u001b[0m\u001b[0;34m\u001b[0m\u001b[0;34m\u001b[0m\u001b[0m\n",
      "\u001b[0;31mAttributeError\u001b[0m: 'spacy.tokens.span.Span' object has no attribute 'string'"
     ]
    }
   ],
   "source": [
    "\n",
    "\n",
    "nlp = spacy.load('en_core_web_sm')\n",
    "\n",
    "nlp.add_pipe('sentencizer')\n",
    "doc = nlp(textExtractorPipe.extract())\n",
    "sentences = [sent.string.strip() for sent in doc.sents]\n",
    "questionProcessor = QuestionProcessor(nlp)\n",
    "contextRetriever = ContextRetriever(nlp, 10)\n",
    "answerRetriever = AnswerRetriever()\n",
    "\n",
    "originalQuestion = \"What is the capital city of Romania?\"\n",
    "questionContext = contextRetriever.getContext(sentences, questionProcessor.process(originalQuestion))\n",
    "print (originalQuestion)\n",
    "print (questionProcessor.process(originalQuestion))\n",
    "answer = answerRetriever.getAnswer(originalQuestion, questionContext)\n",
    "print (answer)"
   ]
  },
  {
   "cell_type": "code",
   "execution_count": null,
   "metadata": {},
   "outputs": [],
   "source": []
  },
  {
   "cell_type": "code",
   "execution_count": null,
   "metadata": {},
   "outputs": [],
   "source": []
  }
 ],
 "metadata": {
  "kernelspec": {
   "display_name": "Python 3",
   "language": "python",
   "name": "python3"
  },
  "language_info": {
   "codemirror_mode": {
    "name": "ipython",
    "version": 3
   },
   "file_extension": ".py",
   "mimetype": "text/x-python",
   "name": "python",
   "nbconvert_exporter": "python",
   "pygments_lexer": "ipython3",
   "version": "3.8.5"
  }
 },
 "nbformat": 4,
 "nbformat_minor": 4
}
